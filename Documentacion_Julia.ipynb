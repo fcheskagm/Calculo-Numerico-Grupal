{
 "cells": [
  {
   "cell_type": "markdown",
   "id": "64d814b6",
   "metadata": {},
   "source": [
    "# CÁLCULO NUMÉRICO\n",
    "<h4> Este proyecto de cálculo numérico se centra en la creación de documentación en un Notebook Jupyter sobre Julia. El objetivo principal es adentrarnos con el lenguaje y explorar sus capacidades para resolver problemas numéricos.</h4>"
   ]
  },
  {
   "cell_type": "markdown",
   "id": "7c752bba",
   "metadata": {},
   "source": [
    "<h4><b>INTEGRANTES:</b><br>Leonardo Vetri 27.307.015<br>\n",
    "Angelo D'Ambrosio 30.641.266<br>\n",
    "Franchesca Gonzalez 30.649.057</h4>"
   ]
  },
  {
   "cell_type": "markdown",
   "id": "dd091a21",
   "metadata": {},
   "source": [
    "<hr>"
   ]
  },
  {
   "cell_type": "markdown",
   "id": "373aa04f",
   "metadata": {},
   "source": [
    "<h1>Julia</h1>\n",
    "<h4>Julia es un lenguaje de programación de alto rendimiento diseñado para análisis numérico y ciencia computacional. Ofrece tipado dinámico, reproducibilidad, composición y una amplia gama de funcionalidades.</h4>"
   ]
  },
  {
   "cell_type": "markdown",
   "id": "83b1e34d-f068-4d8d-a02c-7d4bd726b97d",
   "metadata": {},
   "source": [
    "<h2>Ejecutar codigo en Julia:</h2>"
   ]
  },
  {
   "cell_type": "markdown",
   "id": "44d9b5c4",
   "metadata": {},
   "source": [
    "<h4>Para ejecutar código en Julia mediante la consola, simplemente escribe los comandos directamente en ella y verás los resultados de inmediato. Si prefieres ocultar los resultados, puedes usar un punto y coma al final del comando. Además, también puedes ejecutar código en Julia escribiendo scripts.<br>\n",
    "\n",
    "Un script es una secuencia de comandos de Julia dentro de un archivo. Puedes agregar muchos comandos a este archivo y se ejecutarán en orden, de arriba a abajo. Usar un script te permite guardar todos los comandos y reutilizarlos, en lugar de escribirlos manualmente en la consola cada vez.</h4>"
   ]
  },
  {
   "cell_type": "markdown",
   "id": "df19468e",
   "metadata": {},
   "source": [
    "<h4>Simplemente escribe comandos directamente en ella y observa los resultados de inmediato.</h4>"
   ]
  },
  {
   "cell_type": "code",
   "execution_count": 1,
   "id": "c14b1680-b194-42d4-ae5d-6fa7d0ee9d16",
   "metadata": {},
   "outputs": [
    {
     "data": {
      "text/plain": [
       "1"
      ]
     },
     "execution_count": 1,
     "metadata": {},
     "output_type": "execute_result"
    }
   ],
   "source": [
    "1"
   ]
  },
  {
   "cell_type": "markdown",
   "id": "080384a5-ac7b-4a6f-9a28-1269765c5ca4",
   "metadata": {},
   "source": [
    "<h4>En caso que no queramos ver los resultados podemos usar un punto y coma para ocultarlos</h4>"
   ]
  },
  {
   "cell_type": "code",
   "execution_count": 2,
   "id": "0cf7aef4-1b3e-4172-8deb-1416976de306",
   "metadata": {},
   "outputs": [],
   "source": [
    "1;"
   ]
  },
  {
   "cell_type": "markdown",
   "id": "85208359",
   "metadata": {},
   "source": [
    "<h2>Calculos simples e impresion:</h2>"
   ]
  },
  {
   "cell_type": "markdown",
   "id": "e279d66a-2826-4596-9313-7f508bd3ce71",
   "metadata": {},
   "source": [
    "<h4>Cuando escribimos nuestro codigo en un script, no veremos la salida de cada linea como en consola. En su lugar, podemos elegir que lineas imprimir utilizando la función println. Escribimos println y dentro de los paréntesis colocamos lo que queremos que el script imprima. En este ejemplo, imprimimos el número dos y la suma de uno más dos.</h4>"
   ]
  },
  {
   "cell_type": "code",
   "execution_count": 3,
   "id": "7654f77f-2feb-479f-a4d0-93e2e4bd94b6",
   "metadata": {},
   "outputs": [
    {
     "name": "stdout",
     "output_type": "stream",
     "text": [
      "2\n",
      "3\n"
     ]
    }
   ],
   "source": [
    "#Dentro del script\n",
    "println(2)\n",
    "println(1+2)"
   ]
  },
  {
   "cell_type": "markdown",
   "id": "a7a17495",
   "metadata": {},
   "source": [
    "<h2>Comentarios: </h2>"
   ]
  },
  {
   "cell_type": "markdown",
   "id": "c10fe24b-ff9c-4280-9cb6-15f9d19fe615",
   "metadata": {},
   "source": [
    "<h4>Para realizar comentarios de una sola linea en Julia debemos agregar un \"#\" al inicio de la linea.</h4>\n",
    "<h4>Para realizar comentarios Multi-linea basta con agregar \"#=\" al inicio del comentario y \"=#\" al final del comentario.\n",
    "De esta forma Julia ignorara estas lineas, lo cual permite anotar y agregar notas a nuestro codigo.</h4>"
   ]
  },
  {
   "cell_type": "code",
   "execution_count": 4,
   "id": "df37b246-4eb4-47b9-b830-979f726746fe",
   "metadata": {},
   "outputs": [
    {
     "data": {
      "text/plain": [
       "2"
      ]
     },
     "execution_count": 4,
     "metadata": {},
     "output_type": "execute_result"
    }
   ],
   "source": [
    "#Esto es un comentario de una linea\n",
    "#=\n",
    "Esto\n",
    "es\n",
    "un\n",
    "comentario\n",
    "multi-linea\n",
    "=#\n",
    "2 #Numero 2"
   ]
  },
  {
   "cell_type": "markdown",
   "id": "ce50a0e2",
   "metadata": {},
   "source": [
    "<h2>Variables:</h2>"
   ]
  },
  {
   "cell_type": "markdown",
   "id": "fbc71c19-27d8-4e18-a79a-a0ffffe384cf",
   "metadata": {},
   "source": [
    "<h4>En Julia para declarar variables, asignamos un valor a un nombre, sin necesidad de usar palabras reservadas ni especificar el tipo de variable. Se utiliza el operador de asignacion <b>\"=\"</b> para asignar un valor a la variables.<br>\n",
    "Ejemplo:</h4>\n"
   ]
  },
  {
   "cell_type": "code",
   "execution_count": 5,
   "id": "016caee1-6d15-48eb-8e7c-d4a3694a3281",
   "metadata": {},
   "outputs": [
    {
     "data": {
      "text/plain": [
       "\"Leo\""
      ]
     },
     "execution_count": 5,
     "metadata": {},
     "output_type": "execute_result"
    }
   ],
   "source": [
    "mi_nombre = \"Leo\""
   ]
  },
  {
   "cell_type": "code",
   "execution_count": 6,
   "id": "f86c3210-b49d-46c7-a5f2-7fdc4df0e636",
   "metadata": {},
   "outputs": [
    {
     "data": {
      "text/plain": [
       "24"
      ]
     },
     "execution_count": 6,
     "metadata": {},
     "output_type": "execute_result"
    }
   ],
   "source": [
    "mi_edad = 24"
   ]
  },
  {
   "cell_type": "code",
   "execution_count": 7,
   "id": "6f37930c-de89-4408-a662-69937a7a722b",
   "metadata": {},
   "outputs": [
    {
     "data": {
      "text/plain": [
       "1.77"
      ]
     },
     "execution_count": 7,
     "metadata": {},
     "output_type": "execute_result"
    }
   ],
   "source": [
    "mi_estatura_en_metros= 1.77"
   ]
  },
  {
   "cell_type": "markdown",
   "id": "b61f7793-a22a-4a12-8328-d202b36b8d9d",
   "metadata": {},
   "source": [
    "<h4>Los nombres de las variables deben empezar con una letra y pueden contener letras, números y _.\n",
    "Julia es sensible a mayúsculas y minúsculas (x es diferente de X).<br>\n",
    "Julia soporta el sistema unicode para nombrar variables.</h4>"
   ]
  },
  {
   "cell_type": "code",
   "execution_count": 8,
   "id": "7ca008e5-9a07-48cc-8c62-6b4dc2a01eae",
   "metadata": {},
   "outputs": [
    {
     "name": "stdout",
     "output_type": "stream",
     "text": [
      "0.3\n",
      "3\n"
     ]
    }
   ],
   "source": [
    "a = 0.3\n",
    "A = 3\n",
    "println(a)\n",
    "println(A)"
   ]
  },
  {
   "cell_type": "markdown",
   "id": "8761fbdd-8570-435d-b88f-d15b1ec2e3d5",
   "metadata": {},
   "source": [
    "<h2>Tipos basicos de Datos:</h2>\n",
    "<h4>1. Datos de tipo Numericos:<br>   Distinguiendo entre enteros (Int64, Int32, Int16), decimales (Float64, Float32, Float16) y complejos (Complex).</h4>"
   ]
  },
  {
   "cell_type": "code",
   "execution_count": 9,
   "id": "7dc165e6-940b-453a-89ab-ce124088909d",
   "metadata": {},
   "outputs": [
    {
     "data": {
      "text/plain": [
       "Int64"
      ]
     },
     "execution_count": 9,
     "metadata": {},
     "output_type": "execute_result"
    }
   ],
   "source": [
    "mi_edad = 24\n",
    "typeof(mi_edad) #Funcion que muestra el tipo de variable"
   ]
  },
  {
   "cell_type": "code",
   "execution_count": 10,
   "id": "60050c4e-00dc-4235-bc1d-df7954a51e59",
   "metadata": {},
   "outputs": [
    {
     "data": {
      "text/plain": [
       "Float64"
      ]
     },
     "execution_count": 10,
     "metadata": {},
     "output_type": "execute_result"
    }
   ],
   "source": [
    "mi_estatura_en_metros= 1.77\n",
    "typeof(mi_estatura_en_metros)"
   ]
  },
  {
   "cell_type": "code",
   "execution_count": 11,
   "id": "6dc5b496-004b-43eb-aa54-5614fff844ce",
   "metadata": {},
   "outputs": [
    {
     "data": {
      "text/plain": [
       "ComplexF64\u001b[90m (alias for \u001b[39m\u001b[90mComplex{Float64}\u001b[39m\u001b[90m)\u001b[39m"
      ]
     },
     "execution_count": 11,
     "metadata": {},
     "output_type": "execute_result"
    }
   ],
   "source": [
    "variable_imaginaria = 5.0im\n",
    "typeof(variable_imaginaria)"
   ]
  },
  {
   "cell_type": "markdown",
   "id": "53dded04-841a-46d3-b8e1-d1add1882bb8",
   "metadata": {},
   "source": [
    "<h4>2. Datos de tipo Cadena:<br> Se asignan usando \"\" (doble comilla)  o \"\"\" \"\"\" (triple doble comilla) para textos muy largos. Julia no acepta ' ' (comillas simples) para textos."
   ]
  },
  {
   "cell_type": "code",
   "execution_count": 12,
   "id": "697eff39-4fb5-4ac8-a004-f579fce95332",
   "metadata": {},
   "outputs": [
    {
     "data": {
      "text/plain": [
       "String"
      ]
     },
     "execution_count": 12,
     "metadata": {},
     "output_type": "execute_result"
    }
   ],
   "source": [
    "mi_nombre = \"Leonardo Vetri\"\n",
    "typeof(mi_nombre)"
   ]
  },
  {
   "cell_type": "code",
   "execution_count": 13,
   "id": "5567a403-dbeb-4302-ab56-059353e58b56",
   "metadata": {},
   "outputs": [
    {
     "data": {
      "text/plain": [
       "String"
      ]
     },
     "execution_count": 13,
     "metadata": {},
     "output_type": "execute_result"
    }
   ],
   "source": [
    "texto_muy_largo = \"\"\"\n",
    "Esto es un texto muy largo incluido en una\n",
    "variable.\n",
    "\"\"\"\n",
    "typeof(texto_muy_largo)"
   ]
  },
  {
   "cell_type": "code",
   "execution_count": 14,
   "id": "8c1a1253",
   "metadata": {},
   "outputs": [
    {
     "data": {
      "text/plain": [
       "Char"
      ]
     },
     "execution_count": 14,
     "metadata": {},
     "output_type": "execute_result"
    }
   ],
   "source": [
    "comilla_simple = 'F'\n",
    "typeof(comilla_simple)"
   ]
  },
  {
   "cell_type": "markdown",
   "id": "f14533d2-41de-4db5-a087-503b431cfc31",
   "metadata": {},
   "source": [
    "<h4>3. Booleanos:<br> Son variables logicas que sólo admiten dos valores: verdadero <b>(true)</b> o falso <b>(false)</b>.</h4>"
   ]
  },
  {
   "cell_type": "code",
   "execution_count": 15,
   "id": "34632ef3-0862-4f66-bb07-b8641a0cb1d2",
   "metadata": {},
   "outputs": [
    {
     "data": {
      "text/plain": [
       "Bool"
      ]
     },
     "execution_count": 15,
     "metadata": {},
     "output_type": "execute_result"
    }
   ],
   "source": [
    "variable_booleana = true\n",
    "typeof(variable_booleana)"
   ]
  },
  {
   "cell_type": "markdown",
   "id": "b12c3be7-a63b-4bfa-a9d1-ddc6e8130198",
   "metadata": {},
   "source": [
    "<h4>4. Carácter:<br> Rrepresenta un único carácter que puede contener letras, números y símbolos especiales. El valor de una constante de tipo carácter es el valor numérico de ese carácter en el código ASCII. Solo se asigna usando ' ' (comillas simples)</h4>"
   ]
  },
  {
   "cell_type": "code",
   "execution_count": 16,
   "id": "28452747-b1b5-4163-90b0-67c7d2be87ae",
   "metadata": {},
   "outputs": [
    {
     "data": {
      "text/plain": [
       "Char"
      ]
     },
     "execution_count": 16,
     "metadata": {},
     "output_type": "execute_result"
    }
   ],
   "source": [
    "variable_char = 'F'\n",
    "typeof(variable_char)"
   ]
  },
  {
   "cell_type": "code",
   "execution_count": 17,
   "id": "2bcc8ed2-7228-4a18-91fa-5e5bbb51fbe1",
   "metadata": {},
   "outputs": [
    {
     "data": {
      "text/plain": [
       "70"
      ]
     },
     "execution_count": 17,
     "metadata": {},
     "output_type": "execute_result"
    }
   ],
   "source": [
    "Int(variable_char) # para encontrar el valor numérico del carácter."
   ]
  },
  {
   "cell_type": "markdown",
   "id": "b69f0940-dd4f-4cd3-9165-a113129c8dfb",
   "metadata": {},
   "source": [
    "<h2>Operadores Matematicos:</h2>\n",
    "\n",
    "<h4>Julia tiene todas las operaciones matemáticas básicas:<br>\n",
    "\n",
    "1.Suma (+)<br>\n",
    "2.Resta (-)<br>\n",
    "3.Multiplicación (*)<br>\n",
    "4.División (/)<br>\n",
    "5.Potencia (^)<br>\n",
    "6.Módulo (%)</h4>"
   ]
  },
  {
   "cell_type": "code",
   "execution_count": 18,
   "id": "eddb22ef-039b-43d8-94ce-d5bece81ec8c",
   "metadata": {},
   "outputs": [
    {
     "name": "stdout",
     "output_type": "stream",
     "text": [
      "suma = a + b = 5.5\n",
      "resta = a - b = 1.5\n",
      "multiplicacion = a * b = 7.0\n",
      "division = a / b = 1.75\n",
      "potencia = a ^ b = 12.25\n",
      "modulo = a % b = 1.5\n"
     ]
    }
   ],
   "source": [
    "a = 3.5\n",
    "b = 2\n",
    "@show suma = a + b; #Una forma muy útil de presentar los resultados, tanto texto como resultados, es usando la macro @show\n",
    "@show resta = a - b;\n",
    "@show multiplicacion = a * b;\n",
    "@show division = a / b;\n",
    "@show potencia = a ^ b;\n",
    "@show modulo = a % b;"
   ]
  },
  {
   "cell_type": "markdown",
   "id": "3f926f16-b40b-4e73-aef1-0e411ab3822f",
   "metadata": {},
   "source": [
    "<h4>La operación multiplicación (*) esta definida también cuando las variables son tipo cadena y sirve para concatenar variables.</h4>"
   ]
  },
  {
   "cell_type": "code",
   "execution_count": 19,
   "id": "0f4e9f26-0fc3-454b-becb-848c5bf3dd23",
   "metadata": {},
   "outputs": [
    {
     "name": "stdout",
     "output_type": "stream",
     "text": [
      "saludo = a * b = \"Hola Profesora: Maria Garcia\"\n"
     ]
    }
   ],
   "source": [
    "a = \"Hola Profesora: \"\n",
    "b = \"Maria Garcia\"\n",
    "@show saludo = a * b;"
   ]
  },
  {
   "cell_type": "markdown",
   "id": "596b8775",
   "metadata": {},
   "source": [
    "<h2>Operadores Logicos:</h2>\n",
    "\n",
    "<h4>Julia tiene operadores logicos que devuelven un valor booleano, sea verdadero, falso o nulo:<br>\n",
    "\n",
    "1.Igualdad (==)<br>\n",
    "2.Desigualdad (!=)<br>\n",
    "3.Menos que (<)<br>\n",
    "4.Igual o menos que (<=)<br>\n",
    "5.Mayor que (>)<br>\n",
    "6.Igual o mayor que (>=)</h4>"
   ]
  },
  {
   "cell_type": "code",
   "execution_count": 20,
   "id": "e488de17",
   "metadata": {},
   "outputs": [
    {
     "name": "stdout",
     "output_type": "stream",
     "text": [
      "a == b = false\n",
      "a != b = true\n",
      "a < b = false\n",
      "a <= b = false\n",
      "a > b = true\n",
      "a >= b = true\n"
     ]
    }
   ],
   "source": [
    "a = 3.5\n",
    "b = 2\n",
    "@show a == b; \n",
    "@show a!= b;\n",
    "@show a < b;\n",
    "@show a <= b;\n",
    "@show a > b;\n",
    "@show a >= b;"
   ]
  },
  {
   "cell_type": "markdown",
   "id": "b53f49cd",
   "metadata": {},
   "source": [
    "<h2>Operadores Booleanos:</h2>\n",
    "\n",
    "<h4>Julia tiene operadores booleanos que se utilizan para hacer operaciones logicas entre valores booleanos:<br>\n",
    "\n",
    "1.Negacion (!)<br>\n",
    "2.Y intersección (&&)<br>\n",
    "3.O unión (||)</h4>"
   ]
  },
  {
   "cell_type": "code",
   "execution_count": 21,
   "id": "ec3ee7ae",
   "metadata": {},
   "outputs": [
    {
     "name": "stdout",
     "output_type": "stream",
     "text": [
      "!true = false\n",
      "8 == 8 && 8 == 2 = false\n",
      "8 == 8 || 8 == 2 = true\n"
     ]
    }
   ],
   "source": [
    "@show !true;\n",
    "@show 8 == 8 && 8 ==2; \n",
    "@show 8 == 8 || 8 ==2;"
   ]
  },
  {
   "cell_type": "markdown",
   "id": "7c07915f-018a-4ab5-83c5-255faae33b81",
   "metadata": {},
   "source": [
    "<h2>Estructura de Datos:</h2>\n",
    "<h3>1. Tuplas:</h3><h4> Se crean utilizando la siguiente sintaxis: nombre = (item1, item2, ...)</h4>"
   ]
  },
  {
   "cell_type": "code",
   "execution_count": 22,
   "id": "d55ce46c-4f9a-474b-ac80-4c8b76eea296",
   "metadata": {},
   "outputs": [
    {
     "data": {
      "text/plain": [
       "(1, 2, 3, \"perro\", \"gato\")"
      ]
     },
     "execution_count": 22,
     "metadata": {},
     "output_type": "execute_result"
    }
   ],
   "source": [
    "mi_tupla = (1,2,3, \"perro\", \"gato\")"
   ]
  },
  {
   "cell_type": "markdown",
   "id": "66e1c2ad-3772-4c50-9f2e-b308daa5048a",
   "metadata": {},
   "source": [
    "<h4>Cada elemento puede ser recuperado usando su indice asociado a su ordenamiento empezando por 1 (uno) entre [ ]</h4>"
   ]
  },
  {
   "cell_type": "code",
   "execution_count": 23,
   "id": "20a69655-7523-4aa9-a9f7-6114be5ac506",
   "metadata": {},
   "outputs": [
    {
     "data": {
      "text/plain": [
       "\"perro\""
      ]
     },
     "execution_count": 23,
     "metadata": {},
     "output_type": "execute_result"
    }
   ],
   "source": [
    "mi_tupla[4]"
   ]
  },
  {
   "cell_type": "markdown",
   "id": "89d141cc-fa6a-467d-8be9-ec606368339b",
   "metadata": {},
   "source": [
    "<h4>Las tuplas son inmutables, no se puede cambiar el contenido de ellas una vez que ya se crearon.</h4>"
   ]
  },
  {
   "cell_type": "code",
   "execution_count": 24,
   "id": "541e51dd-2dac-4b2c-9168-c2cfb89e3326",
   "metadata": {},
   "outputs": [
    {
     "ename": "LoadError",
     "evalue": "MethodError: no method matching setindex!(::Tuple{Int64, Int64, Int64, String, String}, ::Int64, ::Int64)",
     "output_type": "error",
     "traceback": [
      "MethodError: no method matching setindex!(::Tuple{Int64, Int64, Int64, String, String}, ::Int64, ::Int64)",
      "",
      "Stacktrace:",
      " [1] top-level scope",
      "   @ In[24]:1"
     ]
    }
   ],
   "source": [
    "mi_tupla[1] = 20"
   ]
  },
  {
   "cell_type": "markdown",
   "id": "c660de58-88f7-43eb-a8e9-3b95f6e99e9f",
   "metadata": {},
   "source": [
    "Las tuplas también pueden contener nombres o identificadores para cada elemento:"
   ]
  },
  {
   "cell_type": "code",
   "execution_count": 25,
   "id": "bd163526-1346-4abc-9ce2-ffe97ea11864",
   "metadata": {},
   "outputs": [
    {
     "name": "stdout",
     "output_type": "stream",
     "text": [
      "mi_tupla = (num1 = 1, num2 = 2, num3 = 3, texto1 = \"perro\", texto2 = \"gato\")\n"
     ]
    }
   ],
   "source": [
    "mi_tupla = (num1=1, num2=2, num3=3, texto1=\"perro\", texto2=\"gato\")\n",
    "@show mi_tupla;"
   ]
  },
  {
   "cell_type": "markdown",
   "id": "c8875222-28fb-46ac-b769-eb9dd1fb3289",
   "metadata": {},
   "source": [
    "<h4>En este caso cada elemento puede ser recuperado usando el nombre o identificador asociado (el orden en este caso es irrelevante). Hay dos formatos para realizar esto: usando la notación tupla.nombre o usando la notación tupla[:nombre].</h4>\n",
    "\n"
   ]
  },
  {
   "cell_type": "code",
   "execution_count": 26,
   "id": "33836eb0-f8d8-4e7f-8c0a-3007370f4331",
   "metadata": {},
   "outputs": [
    {
     "data": {
      "text/plain": [
       "1"
      ]
     },
     "execution_count": 26,
     "metadata": {},
     "output_type": "execute_result"
    }
   ],
   "source": [
    "mi_tupla.num1"
   ]
  },
  {
   "cell_type": "code",
   "execution_count": 27,
   "id": "504cccb9-b746-498a-84e7-d445ffc686f5",
   "metadata": {},
   "outputs": [
    {
     "data": {
      "text/plain": [
       "\"gato\""
      ]
     },
     "execution_count": 27,
     "metadata": {},
     "output_type": "execute_result"
    }
   ],
   "source": [
    "mi_tupla[:texto2]"
   ]
  },
  {
   "cell_type": "markdown",
   "id": "0b2ff568-392c-46ad-bb26-b240eef982d1",
   "metadata": {},
   "source": [
    "<h3>2. Diccionarios:</h3><h4> Se crean utilizando la siguiente sintaxis: Dict(clave1 => valor1, clave2 => valor2, ...)</h4>\n"
   ]
  },
  {
   "cell_type": "code",
   "execution_count": 28,
   "id": "4f1b5d60-b3f3-488a-8afc-381d1b0bae56",
   "metadata": {},
   "outputs": [
    {
     "data": {
      "text/plain": [
       "Dict{String, Any} with 3 entries:\n",
       "  \"Angel\"  => 12.5\n",
       "  \"Freddy\" => \"NP\"\n",
       "  \"Juan\"   => 14.8"
      ]
     },
     "execution_count": 28,
     "metadata": {},
     "output_type": "execute_result"
    }
   ],
   "source": [
    "notas = Dict(\"Angel\" => 12.5, \"Juan\" => 14.8, \"Freddy\" => \"NP\")\n"
   ]
  },
  {
   "cell_type": "markdown",
   "id": "50d7877b-0b4b-468f-b289-c0e42d8fab39",
   "metadata": {},
   "source": [
    "<h4>Cada elemento puede ser recuperado usando su clave asociada con la sintaxis nombre_dic[\"clave\"] </h4>"
   ]
  },
  {
   "cell_type": "code",
   "execution_count": 29,
   "id": "b599a038-612c-4883-8fc6-4da9c7bc6ac6",
   "metadata": {},
   "outputs": [
    {
     "data": {
      "text/plain": [
       "14.8"
      ]
     },
     "execution_count": 29,
     "metadata": {},
     "output_type": "execute_result"
    }
   ],
   "source": [
    "notas[\"Juan\"]"
   ]
  },
  {
   "cell_type": "markdown",
   "id": "75d6fa5a-d150-471a-b8d8-76639f93352c",
   "metadata": {},
   "source": [
    "<h4>Los Diccionarios son mutable por lo que podemos cambiar su contenido</h4>\n",
    "\n"
   ]
  },
  {
   "cell_type": "code",
   "execution_count": 30,
   "id": "f3aaa1c2-eba5-4e01-ae96-666f67f6de3b",
   "metadata": {},
   "outputs": [
    {
     "data": {
      "text/plain": [
       "17.0"
      ]
     },
     "execution_count": 30,
     "metadata": {},
     "output_type": "execute_result"
    }
   ],
   "source": [
    "notas[\"Freddy\"] = 17.0\n"
   ]
  },
  {
   "cell_type": "code",
   "execution_count": 31,
   "id": "0592805f-d2aa-4a9c-a440-6e3c0ec6b8d4",
   "metadata": {},
   "outputs": [
    {
     "data": {
      "text/plain": [
       "Dict{String, Any} with 3 entries:\n",
       "  \"Angel\"  => 12.5\n",
       "  \"Freddy\" => 17.0\n",
       "  \"Juan\"   => 14.8"
      ]
     },
     "execution_count": 31,
     "metadata": {},
     "output_type": "execute_result"
    }
   ],
   "source": [
    "notas"
   ]
  },
  {
   "cell_type": "markdown",
   "id": "1bc18069-2fb8-455a-8cac-1e94b90f1608",
   "metadata": {},
   "source": [
    "<h4>Es posible además adicionar elementos definiendo una clave inexistente y su valor</h4>"
   ]
  },
  {
   "cell_type": "code",
   "execution_count": 32,
   "id": "66683256-422a-4f97-8a99-66a0afaffb51",
   "metadata": {},
   "outputs": [
    {
     "data": {
      "text/plain": [
       "18.5"
      ]
     },
     "execution_count": 32,
     "metadata": {},
     "output_type": "execute_result"
    }
   ],
   "source": [
    "notas[\"Franchesca\"] = 18.5\n"
   ]
  },
  {
   "cell_type": "code",
   "execution_count": 33,
   "id": "80bef978-d7a2-4bf5-a698-39e1fe562174",
   "metadata": {},
   "outputs": [
    {
     "data": {
      "text/plain": [
       "Dict{String, Any} with 4 entries:\n",
       "  \"Angel\"      => 12.5\n",
       "  \"Franchesca\" => 18.5\n",
       "  \"Freddy\"     => 17.0\n",
       "  \"Juan\"       => 14.8"
      ]
     },
     "execution_count": 33,
     "metadata": {},
     "output_type": "execute_result"
    }
   ],
   "source": [
    "notas"
   ]
  },
  {
   "cell_type": "markdown",
   "id": "bdc4d86f-a09f-4575-b339-b2baa693efb3",
   "metadata": {},
   "source": [
    "<h4>Para eliminar una entrada del Diccionario usamos la función pop!(Diccionario, \"clave\")</h4>"
   ]
  },
  {
   "cell_type": "code",
   "execution_count": 34,
   "id": "655b6d6e-022c-4263-b432-9aa70c0a47bb",
   "metadata": {},
   "outputs": [
    {
     "data": {
      "text/plain": [
       "12.5"
      ]
     },
     "execution_count": 34,
     "metadata": {},
     "output_type": "execute_result"
    }
   ],
   "source": [
    "pop!(notas, \"Angel\")"
   ]
  },
  {
   "cell_type": "code",
   "execution_count": 35,
   "id": "620110c9-33c0-49b5-950c-e3222629a845",
   "metadata": {},
   "outputs": [
    {
     "data": {
      "text/plain": [
       "Dict{String, Any} with 3 entries:\n",
       "  \"Franchesca\" => 18.5\n",
       "  \"Freddy\"     => 17.0\n",
       "  \"Juan\"       => 14.8"
      ]
     },
     "execution_count": 35,
     "metadata": {},
     "output_type": "execute_result"
    }
   ],
   "source": [
    "notas"
   ]
  },
  {
   "cell_type": "markdown",
   "id": "40864ec8-a273-4f93-9692-c82e73b5a7c0",
   "metadata": {},
   "source": [
    "<h3>3. Los Arreglos:</h3><h4> Se crean utilizando la siguiente sintaxis: nombre = [item1, item2, ...]</h4>"
   ]
  },
  {
   "cell_type": "code",
   "execution_count": 36,
   "id": "21c748d4-cd22-48b3-9f5a-4114314a5d0f",
   "metadata": {},
   "outputs": [
    {
     "data": {
      "text/plain": [
       "4-element Vector{String}:\n",
       " \"Angelo\"\n",
       " \"Juan\"\n",
       " \"Leo\"\n",
       " \"Angel\""
      ]
     },
     "execution_count": 36,
     "metadata": {},
     "output_type": "execute_result"
    }
   ],
   "source": [
    "arreglo_nombres = [\"Angelo\", \"Juan\", \"Leo\", \"Angel\"]\n"
   ]
  },
  {
   "cell_type": "markdown",
   "id": "c065486f-3d70-46a2-a1ae-36a4e30d2cf7",
   "metadata": {},
   "source": [
    "<h4>Al igual que con las Tuplas, cada elemento puede ser recuperado usando el índice asociado a su ordenamiento empezando en 1 (uno) bajo la sintaxis nombre_arreglo[indice] y a su vez son mutables por lo que podemos cambiar su contenido</h4>"
   ]
  },
  {
   "cell_type": "code",
   "execution_count": 37,
   "id": "99717100-5332-4025-b492-d69cbcb7b8d3",
   "metadata": {},
   "outputs": [
    {
     "data": {
      "text/plain": [
       "\"Leo\""
      ]
     },
     "execution_count": 37,
     "metadata": {},
     "output_type": "execute_result"
    }
   ],
   "source": [
    "arreglo_nombres[3]"
   ]
  },
  {
   "cell_type": "code",
   "execution_count": 38,
   "id": "c808b40e-9f00-43f3-aa32-4db65deb9989",
   "metadata": {},
   "outputs": [
    {
     "data": {
      "text/plain": [
       "\"Leonardo\""
      ]
     },
     "execution_count": 38,
     "metadata": {},
     "output_type": "execute_result"
    }
   ],
   "source": [
    "arreglo_nombres[3] = \"Leonardo\""
   ]
  },
  {
   "cell_type": "code",
   "execution_count": 39,
   "id": "f3a9a85f-9a5b-48fa-a3c6-a7e23f6c5247",
   "metadata": {},
   "outputs": [
    {
     "data": {
      "text/plain": [
       "4-element Vector{String}:\n",
       " \"Angelo\"\n",
       " \"Juan\"\n",
       " \"Leonardo\"\n",
       " \"Angel\""
      ]
     },
     "execution_count": 39,
     "metadata": {},
     "output_type": "execute_result"
    }
   ],
   "source": [
    "arreglo_nombres"
   ]
  },
  {
   "cell_type": "markdown",
   "id": "6b0db424-e5de-4a31-aa57-713e0476763c",
   "metadata": {},
   "source": [
    "<h4>Tambien es posible editar el contenidos de un Arreglo usando las funciones push! y pop!.<br>\n",
    "-push! adiciona un elemento al final del arreglo.<br>\n",
    "-pop! remueve el ultimo elemento del arreglo.</h4>"
   ]
  },
  {
   "cell_type": "code",
   "execution_count": 40,
   "id": "2b644fab-158a-4acf-83bd-868a0a9c34f6",
   "metadata": {},
   "outputs": [
    {
     "data": {
      "text/plain": [
       "5-element Vector{String}:\n",
       " \"Angelo\"\n",
       " \"Juan\"\n",
       " \"Leonardo\"\n",
       " \"Angel\"\n",
       " \"Freddy\""
      ]
     },
     "execution_count": 40,
     "metadata": {},
     "output_type": "execute_result"
    }
   ],
   "source": [
    "push!(arreglo_nombres, \"Freddy\")"
   ]
  },
  {
   "cell_type": "code",
   "execution_count": 41,
   "id": "c91b0b4c-0c2d-4965-a0d4-5e16422b4400",
   "metadata": {},
   "outputs": [
    {
     "data": {
      "text/plain": [
       "\"Freddy\""
      ]
     },
     "execution_count": 41,
     "metadata": {},
     "output_type": "execute_result"
    }
   ],
   "source": [
    "pop!(arreglo_nombres)"
   ]
  },
  {
   "cell_type": "code",
   "execution_count": 42,
   "id": "5cc3a4e6-acea-4414-8714-536bbd547f04",
   "metadata": {},
   "outputs": [
    {
     "data": {
      "text/plain": [
       "4-element Vector{String}:\n",
       " \"Angelo\"\n",
       " \"Juan\"\n",
       " \"Leonardo\"\n",
       " \"Angel\""
      ]
     },
     "execution_count": 42,
     "metadata": {},
     "output_type": "execute_result"
    }
   ],
   "source": [
    "arreglo_nombres"
   ]
  },
  {
   "cell_type": "markdown",
   "id": "60c7f7d5-ebdc-486c-a67f-f64f6e9a4808",
   "metadata": {},
   "source": [
    "<h4>Tambien podemos crear arreglos que contengan otros arreglos</h4>"
   ]
  },
  {
   "cell_type": "code",
   "execution_count": 43,
   "id": "ae88fe11-b4c1-499c-a9ed-07a50ba5b839",
   "metadata": {},
   "outputs": [
    {
     "data": {
      "text/plain": [
       "4-element Vector{Any}:\n",
       "  [3, 4, 1]\n",
       "  [2, 1]\n",
       " 3\n",
       "  [6, 7, 8, 9, 11]"
      ]
     },
     "execution_count": 43,
     "metadata": {},
     "output_type": "execute_result"
    }
   ],
   "source": [
    "arreglo_compuesto = [[3, 4, 1], [2, 1], 3, [6, 7, 8, 9, 11]]\n"
   ]
  },
  {
   "cell_type": "markdown",
   "id": "066d84d3-a407-4766-9651-805e5c6801f2",
   "metadata": {},
   "source": [
    "<h2>Condicionales:</h2>\n",
    "<h4>Los condicionales permiten ejecutar diferentes bloques de código según el valor de una expresión booleana. Este se obtiene dependiendo si se cumple una condición establecida</h4>\n",
    "<h4>1.Condicional if-elseif-else:</h4>\n",
    "<h4>Permite ejecutar bloques de código según el valor de una expresión booleana, dependiendo si es (if), si es otra condicion (elseif), si no es ninguna (else). Su estructura es: </h4>"
   ]
  },
  {
   "cell_type": "code",
   "execution_count": 44,
   "id": "cd7a64bd",
   "metadata": {},
   "outputs": [
    {
     "ename": "LoadError",
     "evalue": "UndefVarError: `condicion` not defined",
     "output_type": "error",
     "traceback": [
      "UndefVarError: `condicion` not defined",
      "",
      "Stacktrace:",
      " [1] top-level scope",
      "   @ In[44]:1"
     ]
    }
   ],
   "source": [
    "if condicion\n",
    "    #Codigo a ejecutar si se cumple\n",
    "elseif condicion2\n",
    "    #Codigo a ejecutar si se cumple la otra condicion\n",
    "else\n",
    "    #Codigo si no se cumple ninguna\n",
    "end"
   ]
  },
  {
   "cell_type": "markdown",
   "id": "ec444fb3",
   "metadata": {},
   "source": [
    "<h4>El \"end\" es necesario en Julia para terminar la estructura del condicional.</h4>\n",
    "<h4>Un ejemplo funcional de un condicional if-elseif-else:</h4>"
   ]
  },
  {
   "cell_type": "code",
   "execution_count": 45,
   "id": "e9f3916f",
   "metadata": {},
   "outputs": [
    {
     "name": "stdout",
     "output_type": "stream",
     "text": [
      "x es menor que y\n"
     ]
    }
   ],
   "source": [
    "#Este es un ejemplo de un condicional con if-elseif-else\n",
    "x = 1\n",
    "y = 2\n",
    "\n",
    "if x < y #Si se cumple que x<y nos devolvera true y se ejecutara el codigo\n",
    "    println(\"x es menor que y\")\n",
    "elseif x > y\n",
    "    println(\"x es mayor que y\")\n",
    "else\n",
    "    println(\"x es igual a y\")\n",
    "end"
   ]
  },
  {
   "cell_type": "markdown",
   "id": "2f952e30",
   "metadata": {},
   "source": [
    "<h2>Bucles:</h2>\n",
    "<h4>Los bucles permiten repetir una serie de instrucciones mientras se cumpla una condición.</h4>\n",
    "<h4>1.Bucle while:</h4>\n",
    "<h4>El bucle while ejecuta un bloque de código mientras se cumpla una condición. Al momento que ya no lo haga se termina el bucle. Su estrucutra es:</h4>"
   ]
  },
  {
   "cell_type": "code",
   "execution_count": null,
   "id": "58c66918",
   "metadata": {},
   "outputs": [],
   "source": [
    "while condición\n",
    "    # Código a ejecutar\n",
    "end"
   ]
  },
  {
   "cell_type": "markdown",
   "id": "7cee4ab4",
   "metadata": {},
   "source": [
    "<h4>Un ejemplo funcional de un bucle while:</h4>"
   ]
  },
  {
   "cell_type": "code",
   "execution_count": 47,
   "id": "3176c5fa",
   "metadata": {},
   "outputs": [
    {
     "name": "stdout",
     "output_type": "stream",
     "text": [
      "Iteración 1\n",
      "Iteración 2\n",
      "Iteración 3\n",
      "Iteración 4\n",
      "Iteración 5\n"
     ]
    }
   ],
   "source": [
    "X = 1\n",
    "while X <= 5\n",
    "    println(\"Iteración $X\")\n",
    "    X += 1\n",
    "end"
   ]
  },
  {
   "cell_type": "markdown",
   "id": "086e5dbe",
   "metadata": {},
   "source": [
    "<h4>1.Bucle for:</h4>\n",
    "<h4>El bucle for itera sobre una colección (como un rango, un arreglo o una tupla). Su estrucutra es:</h4>"
   ]
  },
  {
   "cell_type": "code",
   "execution_count": null,
   "id": "36202db9",
   "metadata": {},
   "outputs": [],
   "source": [
    "for variable in colección\n",
    "    # Código a ejecutar\n",
    "end"
   ]
  },
  {
   "cell_type": "markdown",
   "id": "ef1be3f5",
   "metadata": {},
   "source": [
    "<h4>Un ejemplo funcional de un bucle for:</h4>"
   ]
  },
  {
   "cell_type": "code",
   "execution_count": 49,
   "id": "678821ef",
   "metadata": {},
   "outputs": [
    {
     "name": "stdout",
     "output_type": "stream",
     "text": [
      "Iteración 1\n",
      "Iteración 2\n",
      "Iteración 3\n",
      "Iteración 4\n",
      "Iteración 5\n"
     ]
    }
   ],
   "source": [
    "for x in 1:5\n",
    "    println(\"Iteración $x\")\n",
    "end"
   ]
  },
  {
   "cell_type": "code",
   "execution_count": 50,
   "id": "f7e22bb1",
   "metadata": {},
   "outputs": [
    {
     "name": "stdout",
     "output_type": "stream",
     "text": [
      "Leo\n",
      "Franchesca\n",
      "Angelo\n"
     ]
    }
   ],
   "source": [
    "for s ∈ [\"Leo\",\"Franchesca\",\"Angelo\"]\n",
    "    println(s)\n",
    "end"
   ]
  },
  {
   "cell_type": "markdown",
   "id": "71cb1a64",
   "metadata": {},
   "source": [
    "<h3>Todo lo anterior es esencial para comenzar a entender Julia, pero aún así aun queda mucho más por descubrir y aprender.</h3>"
   ]
  }
 ],
 "metadata": {
  "kernelspec": {
   "display_name": "Julia 1.10.3",
   "language": "julia",
   "name": "julia-1.10"
  },
  "language_info": {
   "file_extension": ".jl",
   "mimetype": "application/julia",
   "name": "julia",
   "version": "1.10.3"
  }
 },
 "nbformat": 4,
 "nbformat_minor": 5
}
